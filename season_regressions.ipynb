{
 "cells": [
  {
   "cell_type": "code",
   "execution_count": 1,
   "metadata": {
    "ExecuteTime": {
     "end_time": "2020-12-28T22:56:39.917830Z",
     "start_time": "2020-12-28T22:56:39.396313Z"
    }
   },
   "outputs": [
    {
     "name": "stderr",
     "output_type": "stream",
     "text": [
      "/Users/eddieowens/.local/share/virtualenvs/ngc-templates-KRpFoM6y/lib/python3.6/importlib/_bootstrap.py:205: RuntimeWarning: numpy.dtype size changed, may indicate binary incompatibility. Expected 96, got 88\n",
      "  return f(*args, **kwds)\n",
      "/Users/eddieowens/.local/share/virtualenvs/ngc-templates-KRpFoM6y/lib/python3.6/importlib/_bootstrap.py:205: RuntimeWarning: numpy.ufunc size changed, may indicate binary incompatibility. Expected 216, got 192\n",
      "  return f(*args, **kwds)\n",
      "/Users/eddieowens/.local/share/virtualenvs/ngc-templates-KRpFoM6y/lib/python3.6/importlib/_bootstrap.py:205: RuntimeWarning: numpy.dtype size changed, may indicate binary incompatibility. Expected 96, got 88\n",
      "  return f(*args, **kwds)\n",
      "/Users/eddieowens/.local/share/virtualenvs/ngc-templates-KRpFoM6y/lib/python3.6/importlib/_bootstrap.py:205: RuntimeWarning: numpy.ufunc size changed, may indicate binary incompatibility. Expected 216, got 192\n",
      "  return f(*args, **kwds)\n"
     ]
    }
   ],
   "source": [
    "import pandas as pd\n",
    "from sklearn.model_selection import train_test_split\n",
    "from sklearn.linear_model import LinearRegression, LogisticRegression\n",
    "from sklearn.ensemble import RandomForestClassifier, RandomForestRegressor, AdaBoostClassifier, AdaBoostRegressor\n",
    "from sklearn.tree import DecisionTreeClassifier, DecisionTreeRegressor"
   ]
  },
  {
   "cell_type": "code",
   "execution_count": 2,
   "metadata": {
    "ExecuteTime": {
     "end_time": "2020-12-28T22:57:07.340795Z",
     "start_time": "2020-12-28T22:57:06.890940Z"
    }
   },
   "outputs": [],
   "source": [
    "boxscores = pd.read_csv('wnba_box_scores.csv', index_col=0)"
   ]
  },
  {
   "cell_type": "code",
   "execution_count": 4,
   "metadata": {
    "ExecuteTime": {
     "end_time": "2020-12-28T22:57:30.039951Z",
     "start_time": "2020-12-28T22:57:30.031617Z"
    }
   },
   "outputs": [],
   "source": [
    "players = pd.read_csv('wnba_player_metadata.csv', index_col=0)"
   ]
  },
  {
   "cell_type": "code",
   "execution_count": 10,
   "metadata": {
    "ExecuteTime": {
     "end_time": "2020-12-30T20:41:28.357493Z",
     "start_time": "2020-12-30T20:41:28.355252Z"
    }
   },
   "outputs": [],
   "source": [
    "# Calc team stats by game\n",
    "# Calc player advanced stats by game"
   ]
  },
  {
   "cell_type": "code",
   "execution_count": 18,
   "metadata": {
    "ExecuteTime": {
     "end_time": "2020-12-30T20:44:21.682652Z",
     "start_time": "2020-12-30T20:44:21.653445Z"
    }
   },
   "outputs": [
    {
     "data": {
      "text/html": [
       "<div>\n",
       "<style scoped>\n",
       "    .dataframe tbody tr th:only-of-type {\n",
       "        vertical-align: middle;\n",
       "    }\n",
       "\n",
       "    .dataframe tbody tr th {\n",
       "        vertical-align: top;\n",
       "    }\n",
       "\n",
       "    .dataframe thead th {\n",
       "        text-align: right;\n",
       "    }\n",
       "</style>\n",
       "<table border=\"1\" class=\"dataframe\">\n",
       "  <thead>\n",
       "    <tr style=\"text-align: right;\">\n",
       "      <th></th>\n",
       "      <th>Player</th>\n",
       "      <th>MP</th>\n",
       "      <th>FG</th>\n",
       "      <th>FGA</th>\n",
       "      <th>3P</th>\n",
       "      <th>3PA</th>\n",
       "      <th>FT</th>\n",
       "      <th>FTA</th>\n",
       "      <th>ORB</th>\n",
       "      <th>TRB</th>\n",
       "      <th>...</th>\n",
       "      <th>PTS</th>\n",
       "      <th>team</th>\n",
       "      <th>opp</th>\n",
       "      <th>home_away</th>\n",
       "      <th>starter</th>\n",
       "      <th>playoffs</th>\n",
       "      <th>game_id</th>\n",
       "      <th>date</th>\n",
       "      <th>player_link</th>\n",
       "      <th>player_id</th>\n",
       "    </tr>\n",
       "  </thead>\n",
       "  <tbody>\n",
       "    <tr>\n",
       "      <th>0</th>\n",
       "      <td>Cynthia Cooper</td>\n",
       "      <td>36:59</td>\n",
       "      <td>9.0</td>\n",
       "      <td>18.0</td>\n",
       "      <td>0.0</td>\n",
       "      <td>3.0</td>\n",
       "      <td>7.0</td>\n",
       "      <td>8.0</td>\n",
       "      <td>1.0</td>\n",
       "      <td>8.0</td>\n",
       "      <td>...</td>\n",
       "      <td>25.0</td>\n",
       "      <td>Cleveland Rockers</td>\n",
       "      <td>Houston Comets</td>\n",
       "      <td>1</td>\n",
       "      <td>1</td>\n",
       "      <td>True</td>\n",
       "      <td>199706210CLE</td>\n",
       "      <td>1997-06-21</td>\n",
       "      <td>/wnba/players/c/coopecy01w.html</td>\n",
       "      <td>coopecy01w</td>\n",
       "    </tr>\n",
       "    <tr>\n",
       "      <th>1</th>\n",
       "      <td>Tina Thompson</td>\n",
       "      <td>34:26</td>\n",
       "      <td>6.0</td>\n",
       "      <td>9.0</td>\n",
       "      <td>2.0</td>\n",
       "      <td>4.0</td>\n",
       "      <td>0.0</td>\n",
       "      <td>0.0</td>\n",
       "      <td>0.0</td>\n",
       "      <td>5.0</td>\n",
       "      <td>...</td>\n",
       "      <td>14.0</td>\n",
       "      <td>Cleveland Rockers</td>\n",
       "      <td>Houston Comets</td>\n",
       "      <td>1</td>\n",
       "      <td>1</td>\n",
       "      <td>True</td>\n",
       "      <td>199706210CLE</td>\n",
       "      <td>1997-06-21</td>\n",
       "      <td>/wnba/players/t/thompti01w.html</td>\n",
       "      <td>thompti01w</td>\n",
       "    </tr>\n",
       "    <tr>\n",
       "      <th>2</th>\n",
       "      <td>Janeth Arcain</td>\n",
       "      <td>27:54</td>\n",
       "      <td>8.0</td>\n",
       "      <td>12.0</td>\n",
       "      <td>0.0</td>\n",
       "      <td>0.0</td>\n",
       "      <td>0.0</td>\n",
       "      <td>0.0</td>\n",
       "      <td>1.0</td>\n",
       "      <td>1.0</td>\n",
       "      <td>...</td>\n",
       "      <td>16.0</td>\n",
       "      <td>Cleveland Rockers</td>\n",
       "      <td>Houston Comets</td>\n",
       "      <td>1</td>\n",
       "      <td>1</td>\n",
       "      <td>True</td>\n",
       "      <td>199706210CLE</td>\n",
       "      <td>1997-06-21</td>\n",
       "      <td>/wnba/players/a/arcaija01w.html</td>\n",
       "      <td>arcaija01w</td>\n",
       "    </tr>\n",
       "    <tr>\n",
       "      <th>3</th>\n",
       "      <td>Wanda Guyton</td>\n",
       "      <td>20:24</td>\n",
       "      <td>1.0</td>\n",
       "      <td>2.0</td>\n",
       "      <td>0.0</td>\n",
       "      <td>0.0</td>\n",
       "      <td>2.0</td>\n",
       "      <td>2.0</td>\n",
       "      <td>1.0</td>\n",
       "      <td>3.0</td>\n",
       "      <td>...</td>\n",
       "      <td>4.0</td>\n",
       "      <td>Cleveland Rockers</td>\n",
       "      <td>Houston Comets</td>\n",
       "      <td>1</td>\n",
       "      <td>1</td>\n",
       "      <td>True</td>\n",
       "      <td>199706210CLE</td>\n",
       "      <td>1997-06-21</td>\n",
       "      <td>/wnba/players/g/guytowa01w.html</td>\n",
       "      <td>guytowa01w</td>\n",
       "    </tr>\n",
       "    <tr>\n",
       "      <th>4</th>\n",
       "      <td>Kim Perrot</td>\n",
       "      <td>20:22</td>\n",
       "      <td>1.0</td>\n",
       "      <td>5.0</td>\n",
       "      <td>0.0</td>\n",
       "      <td>3.0</td>\n",
       "      <td>0.0</td>\n",
       "      <td>0.0</td>\n",
       "      <td>1.0</td>\n",
       "      <td>3.0</td>\n",
       "      <td>...</td>\n",
       "      <td>2.0</td>\n",
       "      <td>Cleveland Rockers</td>\n",
       "      <td>Houston Comets</td>\n",
       "      <td>1</td>\n",
       "      <td>1</td>\n",
       "      <td>True</td>\n",
       "      <td>199706210CLE</td>\n",
       "      <td>1997-06-21</td>\n",
       "      <td>/wnba/players/p/perroki01w.html</td>\n",
       "      <td>perroki01w</td>\n",
       "    </tr>\n",
       "  </tbody>\n",
       "</table>\n",
       "<p>5 rows × 25 columns</p>\n",
       "</div>"
      ],
      "text/plain": [
       "           Player     MP   FG   FGA   3P  3PA   FT  FTA  ORB  TRB     ...      \\\n",
       "0  Cynthia Cooper  36:59  9.0  18.0  0.0  3.0  7.0  8.0  1.0  8.0     ...       \n",
       "1   Tina Thompson  34:26  6.0   9.0  2.0  4.0  0.0  0.0  0.0  5.0     ...       \n",
       "2   Janeth Arcain  27:54  8.0  12.0  0.0  0.0  0.0  0.0  1.0  1.0     ...       \n",
       "3    Wanda Guyton  20:24  1.0   2.0  0.0  0.0  2.0  2.0  1.0  3.0     ...       \n",
       "4      Kim Perrot  20:22  1.0   5.0  0.0  3.0  0.0  0.0  1.0  3.0     ...       \n",
       "\n",
       "    PTS               team             opp  home_away  starter  playoffs  \\\n",
       "0  25.0  Cleveland Rockers  Houston Comets          1        1      True   \n",
       "1  14.0  Cleveland Rockers  Houston Comets          1        1      True   \n",
       "2  16.0  Cleveland Rockers  Houston Comets          1        1      True   \n",
       "3   4.0  Cleveland Rockers  Houston Comets          1        1      True   \n",
       "4   2.0  Cleveland Rockers  Houston Comets          1        1      True   \n",
       "\n",
       "        game_id        date                      player_link   player_id  \n",
       "0  199706210CLE  1997-06-21  /wnba/players/c/coopecy01w.html  coopecy01w  \n",
       "1  199706210CLE  1997-06-21  /wnba/players/t/thompti01w.html  thompti01w  \n",
       "2  199706210CLE  1997-06-21  /wnba/players/a/arcaija01w.html  arcaija01w  \n",
       "3  199706210CLE  1997-06-21  /wnba/players/g/guytowa01w.html  guytowa01w  \n",
       "4  199706210CLE  1997-06-21  /wnba/players/p/perroki01w.html  perroki01w  \n",
       "\n",
       "[5 rows x 25 columns]"
      ]
     },
     "execution_count": 18,
     "metadata": {},
     "output_type": "execute_result"
    }
   ],
   "source": [
    "boxscores.head()"
   ]
  },
  {
   "cell_type": "code",
   "execution_count": 23,
   "metadata": {
    "ExecuteTime": {
     "end_time": "2020-12-30T20:58:50.380595Z",
     "start_time": "2020-12-30T20:58:50.335817Z"
    }
   },
   "outputs": [],
   "source": [
    "tm_stats = boxscores.groupby(['game_id', 'team'])[['MP', 'FG', 'FGA', '3P', '3PA', 'FT', 'FTA', 'ORB', 'TRB',\n",
    "       'AST', 'STL', 'BLK', 'TOV', 'PF', 'PTS']].sum()"
   ]
  },
  {
   "cell_type": "code",
   "execution_count": 24,
   "metadata": {
    "ExecuteTime": {
     "end_time": "2020-12-30T20:58:50.858780Z",
     "start_time": "2020-12-30T20:58:50.854096Z"
    }
   },
   "outputs": [],
   "source": [
    "tm_stats['2PA'] = tm_stats['FGA'] - tm_stats['3PA']\n",
    "tm_stats['2P'] = tm_stats['FG'] - tm_stats['3P']"
   ]
  },
  {
   "cell_type": "code",
   "execution_count": null,
   "metadata": {},
   "outputs": [],
   "source": [
    "# 0.5 * ((Tm FGA + 0.4 * Tm FTA – 1.07 * (Tm ORB / (Tm ORB + Opp DRB)) * (Tm FGA – Tm FG) + Tm TOV) + (Opp FGA + 0.4 * Opp FTA – 1.07 * (Opp ORB / (Opp ORB + Tm DRB)) * (Opp FGA – Opp FG) + Opp TOV))"
   ]
  },
  {
   "cell_type": "code",
   "execution_count": 47,
   "metadata": {
    "ExecuteTime": {
     "end_time": "2020-12-31T01:51:46.054224Z",
     "start_time": "2020-12-31T01:51:46.048666Z"
    }
   },
   "outputs": [],
   "source": [
    "def calc_gm_poss(gm):\n",
    "    tm1_name, tm2_name = gm.index\n",
    "    tm1 = gm.loc[tm1_name]\n",
    "    tm2 = gm.loc[tm2_name]\n",
    "    \n",
    "    return (tm1['FGA'] + 0.4*tm1['FTA'] - 1.07*(tm1['ORB']/(tm1['ORB'] + (tm2['TRB'] - tm2['ORB']))) * \\\n",
    "            (tm1['FGA'] - tm1['FG']) + tm1['TOV'] + tm2['FGA'] + 0.4*tm2['FTA'] - \\\n",
    "            1.07*(tm2['ORB']/(tm2['ORB'] + (tm1['TRB'] - tm1['ORB']))) * (tm2['FGA'] - tm2['FG']) + tm2['TOV'])*.5"
   ]
  },
  {
   "cell_type": "code",
   "execution_count": 53,
   "metadata": {
    "ExecuteTime": {
     "end_time": "2020-12-31T01:53:37.316734Z",
     "start_time": "2020-12-31T01:53:31.336605Z"
    }
   },
   "outputs": [],
   "source": [
    "for game_id in tm_stats.index.levels[0]:\n",
    "    gm = tm_stats.loc[game_id]\n",
    "    tm_stats.loc[game_id, 'poss'] = calc_gm_poss(gm)"
   ]
  },
  {
   "cell_type": "code",
   "execution_count": 21,
   "metadata": {
    "ExecuteTime": {
     "end_time": "2020-12-30T20:55:09.748425Z",
     "start_time": "2020-12-30T20:55:09.745204Z"
    }
   },
   "outputs": [],
   "source": [
    "def convert_mp_decimal(MP):\n",
    "    mins, secs = MP.split(':')\n",
    "    return int(mins) + int(secs)/60"
   ]
  },
  {
   "cell_type": "code",
   "execution_count": 22,
   "metadata": {
    "ExecuteTime": {
     "end_time": "2020-12-30T20:55:57.480777Z",
     "start_time": "2020-12-30T20:55:57.362603Z"
    }
   },
   "outputs": [],
   "source": [
    "boxscores['2PA'] = boxscores['FGA'] - boxscores['3PA']\n",
    "boxscores['2P'] = boxscores['FG'] - boxscores['3P']\n",
    "boxscores['MP'] = boxscores.MP.apply(convert_mp_decimal)"
   ]
  },
  {
   "cell_type": "code",
   "execution_count": 9,
   "metadata": {
    "ExecuteTime": {
     "end_time": "2020-12-30T20:40:46.080747Z",
     "start_time": "2020-12-30T20:40:46.078760Z"
    }
   },
   "outputs": [],
   "source": [
    "# stats to predict: 2pt pct, 3pt pct, FT pct, FTA/FGA, OREB/Tm FG missed, DREB/opp FG missed, AST/Teammates FG, \n",
    "# Blk/Opponent 2pt FGA, Stl/Possessions"
   ]
  },
  {
   "cell_type": "code",
   "execution_count": 55,
   "metadata": {
    "ExecuteTime": {
     "end_time": "2020-12-31T02:08:34.360128Z",
     "start_time": "2020-12-31T01:57:28.192848Z"
    }
   },
   "outputs": [],
   "source": [
    "for i, row in boxscores.iterrows():\n",
    "    boxscores.loc[i, 'oReb_chances'] = (tm_stats.loc[(row['game_id'], row['team'])]['FGA'] - \\\n",
    "                                        tm_stats.loc[(row['game_id'], row['team'])]['FG'] + \\\n",
    "                                        tm_stats.loc[(row['game_id'], row['team'])]['FTA'] - \\\n",
    "                                        tm_stats.loc[(row['game_id'], row['team'])]['FT']) * \\\n",
    "                                        row['MP']/(tm_stats.loc[(row['game_id'], row['team'])]['MP']/5)\n",
    "    boxscores.loc[i, 'dReb_chances'] = (tm_stats.loc[(row['game_id'], row['opp'])]['FGA'] - \\\n",
    "                                        tm_stats.loc[(row['game_id'], row['opp'])]['FG'] + \\\n",
    "                                        tm_stats.loc[(row['game_id'], row['opp'])]['FTA'] - \\\n",
    "                                        tm_stats.loc[(row['game_id'], row['opp'])]['FT']) * \\\n",
    "                                        row['MP']/(tm_stats.loc[(row['game_id'], row['team'])]['MP']/5)\n",
    "    boxscores.loc[i, 'teammate_fg'] = (tm_stats.loc[(row['game_id'], row['team'])]['FG'] - row['FG']) * \\\n",
    "                                        row['MP']/(tm_stats.loc[(row['game_id'], row['team'])]['MP']/5)\n",
    "    boxscores.loc[i, 'opp_2fga'] = tm_stats.loc[(row['game_id'], row['opp'])]['2PA'] * \\\n",
    "                                        row['MP']/(tm_stats.loc[(row['game_id'], row['team'])]['MP']/5)\n",
    "    boxscores.loc[i, 'poss'] = tm_stats.loc[(row['game_id'], row['team'])]['poss'] * \\\n",
    "                                        row['MP']/(tm_stats.loc[(row['game_id'], row['team'])]['MP']/5)"
   ]
  },
  {
   "cell_type": "code",
   "execution_count": 56,
   "metadata": {
    "ExecuteTime": {
     "end_time": "2020-12-31T02:08:34.384185Z",
     "start_time": "2020-12-31T02:08:34.361914Z"
    }
   },
   "outputs": [
    {
     "data": {
      "text/html": [
       "<div>\n",
       "<style scoped>\n",
       "    .dataframe tbody tr th:only-of-type {\n",
       "        vertical-align: middle;\n",
       "    }\n",
       "\n",
       "    .dataframe tbody tr th {\n",
       "        vertical-align: top;\n",
       "    }\n",
       "\n",
       "    .dataframe thead th {\n",
       "        text-align: right;\n",
       "    }\n",
       "</style>\n",
       "<table border=\"1\" class=\"dataframe\">\n",
       "  <thead>\n",
       "    <tr style=\"text-align: right;\">\n",
       "      <th></th>\n",
       "      <th>Player</th>\n",
       "      <th>MP</th>\n",
       "      <th>FG</th>\n",
       "      <th>FGA</th>\n",
       "      <th>3P</th>\n",
       "      <th>3PA</th>\n",
       "      <th>FT</th>\n",
       "      <th>FTA</th>\n",
       "      <th>ORB</th>\n",
       "      <th>TRB</th>\n",
       "      <th>...</th>\n",
       "      <th>date</th>\n",
       "      <th>player_link</th>\n",
       "      <th>player_id</th>\n",
       "      <th>2PA</th>\n",
       "      <th>2P</th>\n",
       "      <th>oReb_chances</th>\n",
       "      <th>dReb_chances</th>\n",
       "      <th>teammate_fg</th>\n",
       "      <th>opp_2fga</th>\n",
       "      <th>poss</th>\n",
       "    </tr>\n",
       "  </thead>\n",
       "  <tbody>\n",
       "    <tr>\n",
       "      <th>0</th>\n",
       "      <td>Cynthia Cooper</td>\n",
       "      <td>36.983333</td>\n",
       "      <td>9.0</td>\n",
       "      <td>18.0</td>\n",
       "      <td>0.0</td>\n",
       "      <td>3.0</td>\n",
       "      <td>7.0</td>\n",
       "      <td>8.0</td>\n",
       "      <td>1.0</td>\n",
       "      <td>8.0</td>\n",
       "      <td>...</td>\n",
       "      <td>1997-06-21</td>\n",
       "      <td>/wnba/players/c/coopecy01w.html</td>\n",
       "      <td>coopecy01w</td>\n",
       "      <td>15.0</td>\n",
       "      <td>9.0</td>\n",
       "      <td>24.039167</td>\n",
       "      <td>39.757083</td>\n",
       "      <td>19.416250</td>\n",
       "      <td>49.002917</td>\n",
       "      <td>68.836453</td>\n",
       "    </tr>\n",
       "    <tr>\n",
       "      <th>1</th>\n",
       "      <td>Tina Thompson</td>\n",
       "      <td>34.433333</td>\n",
       "      <td>6.0</td>\n",
       "      <td>9.0</td>\n",
       "      <td>2.0</td>\n",
       "      <td>4.0</td>\n",
       "      <td>0.0</td>\n",
       "      <td>0.0</td>\n",
       "      <td>0.0</td>\n",
       "      <td>5.0</td>\n",
       "      <td>...</td>\n",
       "      <td>1997-06-21</td>\n",
       "      <td>/wnba/players/t/thompti01w.html</td>\n",
       "      <td>thompti01w</td>\n",
       "      <td>5.0</td>\n",
       "      <td>4.0</td>\n",
       "      <td>22.381667</td>\n",
       "      <td>37.015833</td>\n",
       "      <td>20.660000</td>\n",
       "      <td>45.624167</td>\n",
       "      <td>64.090181</td>\n",
       "    </tr>\n",
       "    <tr>\n",
       "      <th>2</th>\n",
       "      <td>Janeth Arcain</td>\n",
       "      <td>27.900000</td>\n",
       "      <td>8.0</td>\n",
       "      <td>12.0</td>\n",
       "      <td>0.0</td>\n",
       "      <td>0.0</td>\n",
       "      <td>0.0</td>\n",
       "      <td>0.0</td>\n",
       "      <td>1.0</td>\n",
       "      <td>1.0</td>\n",
       "      <td>...</td>\n",
       "      <td>1997-06-21</td>\n",
       "      <td>/wnba/players/a/arcaija01w.html</td>\n",
       "      <td>arcaija01w</td>\n",
       "      <td>12.0</td>\n",
       "      <td>8.0</td>\n",
       "      <td>18.135000</td>\n",
       "      <td>29.992500</td>\n",
       "      <td>15.345000</td>\n",
       "      <td>36.967500</td>\n",
       "      <td>51.929798</td>\n",
       "    </tr>\n",
       "    <tr>\n",
       "      <th>3</th>\n",
       "      <td>Wanda Guyton</td>\n",
       "      <td>20.400000</td>\n",
       "      <td>1.0</td>\n",
       "      <td>2.0</td>\n",
       "      <td>0.0</td>\n",
       "      <td>0.0</td>\n",
       "      <td>2.0</td>\n",
       "      <td>2.0</td>\n",
       "      <td>1.0</td>\n",
       "      <td>3.0</td>\n",
       "      <td>...</td>\n",
       "      <td>1997-06-21</td>\n",
       "      <td>/wnba/players/g/guytowa01w.html</td>\n",
       "      <td>guytowa01w</td>\n",
       "      <td>2.0</td>\n",
       "      <td>1.0</td>\n",
       "      <td>13.260000</td>\n",
       "      <td>21.930000</td>\n",
       "      <td>14.790000</td>\n",
       "      <td>27.030000</td>\n",
       "      <td>37.970175</td>\n",
       "    </tr>\n",
       "    <tr>\n",
       "      <th>4</th>\n",
       "      <td>Kim Perrot</td>\n",
       "      <td>20.366667</td>\n",
       "      <td>1.0</td>\n",
       "      <td>5.0</td>\n",
       "      <td>0.0</td>\n",
       "      <td>3.0</td>\n",
       "      <td>0.0</td>\n",
       "      <td>0.0</td>\n",
       "      <td>1.0</td>\n",
       "      <td>3.0</td>\n",
       "      <td>...</td>\n",
       "      <td>1997-06-21</td>\n",
       "      <td>/wnba/players/p/perroki01w.html</td>\n",
       "      <td>perroki01w</td>\n",
       "      <td>2.0</td>\n",
       "      <td>1.0</td>\n",
       "      <td>13.238333</td>\n",
       "      <td>21.894167</td>\n",
       "      <td>14.765833</td>\n",
       "      <td>26.985833</td>\n",
       "      <td>37.908132</td>\n",
       "    </tr>\n",
       "  </tbody>\n",
       "</table>\n",
       "<p>5 rows × 32 columns</p>\n",
       "</div>"
      ],
      "text/plain": [
       "           Player         MP   FG   FGA   3P  3PA   FT  FTA  ORB  TRB  \\\n",
       "0  Cynthia Cooper  36.983333  9.0  18.0  0.0  3.0  7.0  8.0  1.0  8.0   \n",
       "1   Tina Thompson  34.433333  6.0   9.0  2.0  4.0  0.0  0.0  0.0  5.0   \n",
       "2   Janeth Arcain  27.900000  8.0  12.0  0.0  0.0  0.0  0.0  1.0  1.0   \n",
       "3    Wanda Guyton  20.400000  1.0   2.0  0.0  0.0  2.0  2.0  1.0  3.0   \n",
       "4      Kim Perrot  20.366667  1.0   5.0  0.0  3.0  0.0  0.0  1.0  3.0   \n",
       "\n",
       "     ...            date                      player_link   player_id   2PA  \\\n",
       "0    ...      1997-06-21  /wnba/players/c/coopecy01w.html  coopecy01w  15.0   \n",
       "1    ...      1997-06-21  /wnba/players/t/thompti01w.html  thompti01w   5.0   \n",
       "2    ...      1997-06-21  /wnba/players/a/arcaija01w.html  arcaija01w  12.0   \n",
       "3    ...      1997-06-21  /wnba/players/g/guytowa01w.html  guytowa01w   2.0   \n",
       "4    ...      1997-06-21  /wnba/players/p/perroki01w.html  perroki01w   2.0   \n",
       "\n",
       "    2P  oReb_chances dReb_chances teammate_fg   opp_2fga       poss  \n",
       "0  9.0     24.039167    39.757083   19.416250  49.002917  68.836453  \n",
       "1  4.0     22.381667    37.015833   20.660000  45.624167  64.090181  \n",
       "2  8.0     18.135000    29.992500   15.345000  36.967500  51.929798  \n",
       "3  1.0     13.260000    21.930000   14.790000  27.030000  37.970175  \n",
       "4  1.0     13.238333    21.894167   14.765833  26.985833  37.908132  \n",
       "\n",
       "[5 rows x 32 columns]"
      ]
     },
     "execution_count": 56,
     "metadata": {},
     "output_type": "execute_result"
    }
   ],
   "source": [
    "boxscores.head()"
   ]
  },
  {
   "cell_type": "code",
   "execution_count": 57,
   "metadata": {
    "ExecuteTime": {
     "end_time": "2020-12-31T03:29:06.295174Z",
     "start_time": "2020-12-31T03:29:04.110607Z"
    }
   },
   "outputs": [],
   "source": [
    "boxscores.to_csv('wnba_box_scores.csv')"
   ]
  },
  {
   "cell_type": "code",
   "execution_count": 5,
   "metadata": {
    "ExecuteTime": {
     "end_time": "2020-12-28T22:57:34.884206Z",
     "start_time": "2020-12-28T22:57:34.869270Z"
    }
   },
   "outputs": [
    {
     "data": {
      "text/html": [
       "<div>\n",
       "<style scoped>\n",
       "    .dataframe tbody tr th:only-of-type {\n",
       "        vertical-align: middle;\n",
       "    }\n",
       "\n",
       "    .dataframe tbody tr th {\n",
       "        vertical-align: top;\n",
       "    }\n",
       "\n",
       "    .dataframe thead th {\n",
       "        text-align: right;\n",
       "    }\n",
       "</style>\n",
       "<table border=\"1\" class=\"dataframe\">\n",
       "  <thead>\n",
       "    <tr style=\"text-align: right;\">\n",
       "      <th></th>\n",
       "      <th>birthdate</th>\n",
       "      <th>college</th>\n",
       "      <th>draft_pos</th>\n",
       "      <th>draft_year</th>\n",
       "      <th>height</th>\n",
       "      <th>player_id</th>\n",
       "      <th>position</th>\n",
       "      <th>weight</th>\n",
       "      <th>country_fixed</th>\n",
       "      <th>name</th>\n",
       "    </tr>\n",
       "  </thead>\n",
       "  <tbody>\n",
       "    <tr>\n",
       "      <th>0</th>\n",
       "      <td>1963-04-14</td>\n",
       "      <td>USC</td>\n",
       "      <td>NaN</td>\n",
       "      <td>NaN</td>\n",
       "      <td>5.833333</td>\n",
       "      <td>coopecy01w</td>\n",
       "      <td>Guard</td>\n",
       "      <td>150.0</td>\n",
       "      <td>us</td>\n",
       "      <td>Cynthia Cooper</td>\n",
       "    </tr>\n",
       "    <tr>\n",
       "      <th>1</th>\n",
       "      <td>1975-02-10</td>\n",
       "      <td>USC</td>\n",
       "      <td>1.0</td>\n",
       "      <td>1997.0</td>\n",
       "      <td>6.166667</td>\n",
       "      <td>thompti01w</td>\n",
       "      <td>Forward</td>\n",
       "      <td>178.0</td>\n",
       "      <td>us</td>\n",
       "      <td>Tina Thompson</td>\n",
       "    </tr>\n",
       "    <tr>\n",
       "      <th>2</th>\n",
       "      <td>1969-04-11</td>\n",
       "      <td>NaN</td>\n",
       "      <td>NaN</td>\n",
       "      <td>NaN</td>\n",
       "      <td>5.916667</td>\n",
       "      <td>arcaija01w</td>\n",
       "      <td>Guard</td>\n",
       "      <td>147.0</td>\n",
       "      <td>br</td>\n",
       "      <td>Janeth Arcain</td>\n",
       "    </tr>\n",
       "    <tr>\n",
       "      <th>3</th>\n",
       "      <td>1968-10-14</td>\n",
       "      <td>South Florida</td>\n",
       "      <td>NaN</td>\n",
       "      <td>NaN</td>\n",
       "      <td>6.083333</td>\n",
       "      <td>guytowa01w</td>\n",
       "      <td>Center</td>\n",
       "      <td>178.0</td>\n",
       "      <td>us</td>\n",
       "      <td>Wanda Guyton</td>\n",
       "    </tr>\n",
       "    <tr>\n",
       "      <th>4</th>\n",
       "      <td>1967-01-18</td>\n",
       "      <td>SW Louisiana</td>\n",
       "      <td>NaN</td>\n",
       "      <td>NaN</td>\n",
       "      <td>5.416667</td>\n",
       "      <td>perroki01w</td>\n",
       "      <td>Guard</td>\n",
       "      <td>130.0</td>\n",
       "      <td>us</td>\n",
       "      <td>Kim Perrot</td>\n",
       "    </tr>\n",
       "  </tbody>\n",
       "</table>\n",
       "</div>"
      ],
      "text/plain": [
       "    birthdate        college  draft_pos  draft_year    height   player_id  \\\n",
       "0  1963-04-14            USC        NaN         NaN  5.833333  coopecy01w   \n",
       "1  1975-02-10            USC        1.0      1997.0  6.166667  thompti01w   \n",
       "2  1969-04-11            NaN        NaN         NaN  5.916667  arcaija01w   \n",
       "3  1968-10-14  South Florida        NaN         NaN  6.083333  guytowa01w   \n",
       "4  1967-01-18   SW Louisiana        NaN         NaN  5.416667  perroki01w   \n",
       "\n",
       "  position  weight country_fixed            name  \n",
       "0    Guard   150.0            us  Cynthia Cooper  \n",
       "1  Forward   178.0            us   Tina Thompson  \n",
       "2    Guard   147.0            br   Janeth Arcain  \n",
       "3   Center   178.0            us    Wanda Guyton  \n",
       "4    Guard   130.0            us      Kim Perrot  "
      ]
     },
     "execution_count": 5,
     "metadata": {},
     "output_type": "execute_result"
    }
   ],
   "source": [
    "players.head()"
   ]
  },
  {
   "cell_type": "code",
   "execution_count": null,
   "metadata": {},
   "outputs": [],
   "source": []
  }
 ],
 "metadata": {
  "kernelspec": {
   "display_name": "Python 3",
   "language": "python",
   "name": "python3"
  },
  "language_info": {
   "codemirror_mode": {
    "name": "ipython",
    "version": 3
   },
   "file_extension": ".py",
   "mimetype": "text/x-python",
   "name": "python",
   "nbconvert_exporter": "python",
   "pygments_lexer": "ipython3",
   "version": "3.6.2"
  },
  "toc": {
   "base_numbering": 1,
   "nav_menu": {},
   "number_sections": true,
   "sideBar": true,
   "skip_h1_title": false,
   "title_cell": "Table of Contents",
   "title_sidebar": "Contents",
   "toc_cell": false,
   "toc_position": {},
   "toc_section_display": true,
   "toc_window_display": false
  }
 },
 "nbformat": 4,
 "nbformat_minor": 4
}
