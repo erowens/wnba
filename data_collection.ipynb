{
 "cells": [
  {
   "cell_type": "code",
   "execution_count": 4,
   "metadata": {
    "ExecuteTime": {
     "end_time": "2020-12-20T21:42:27.809690Z",
     "start_time": "2020-12-20T21:42:26.681235Z"
    }
   },
   "outputs": [],
   "source": [
    "import pandas as pd"
   ]
  },
  {
   "cell_type": "code",
   "execution_count": 5,
   "metadata": {
    "ExecuteTime": {
     "end_time": "2020-12-20T21:42:27.813733Z",
     "start_time": "2020-12-20T21:42:27.811446Z"
    }
   },
   "outputs": [],
   "source": [
    "import re"
   ]
  },
  {
   "cell_type": "code",
   "execution_count": 193,
   "metadata": {
    "ExecuteTime": {
     "end_time": "2020-12-25T03:06:51.699658Z",
     "start_time": "2020-12-25T03:06:51.697078Z"
    }
   },
   "outputs": [],
   "source": [
    "import numpy as np"
   ]
  },
  {
   "cell_type": "code",
   "execution_count": 6,
   "metadata": {
    "ExecuteTime": {
     "end_time": "2020-12-20T21:42:27.818223Z",
     "start_time": "2020-12-20T21:42:27.815894Z"
    }
   },
   "outputs": [],
   "source": [
    "from datetime import datetime"
   ]
  },
  {
   "cell_type": "code",
   "execution_count": 9,
   "metadata": {
    "ExecuteTime": {
     "end_time": "2020-12-20T21:42:45.619948Z",
     "start_time": "2020-12-20T21:42:45.354167Z"
    }
   },
   "outputs": [],
   "source": [
    "import requests\n",
    "from bs4 import BeautifulSoup"
   ]
  },
  {
   "cell_type": "code",
   "execution_count": 7,
   "metadata": {
    "ExecuteTime": {
     "end_time": "2020-12-20T21:42:27.823041Z",
     "start_time": "2020-12-20T21:42:27.820239Z"
    }
   },
   "outputs": [],
   "source": [
    "pd.set_option('display.max_columns', None)\n",
    "pd.set_option('display.max_rows', 300)"
   ]
  },
  {
   "cell_type": "markdown",
   "metadata": {
    "heading_collapsed": true
   },
   "source": [
    "# Exploring"
   ]
  },
  {
   "cell_type": "code",
   "execution_count": 2,
   "metadata": {
    "ExecuteTime": {
     "end_time": "2020-11-30T01:30:52.993688Z",
     "start_time": "2020-11-30T01:30:52.516111Z"
    },
    "hidden": true
   },
   "outputs": [],
   "source": [
    "historical = pd.read_csv('https://raw.githubusercontent.com/fivethirtyeight/WNBA-stats/master/wnba-player-stats.csv')"
   ]
  },
  {
   "cell_type": "code",
   "execution_count": 6,
   "metadata": {
    "ExecuteTime": {
     "end_time": "2020-11-30T01:32:31.367181Z",
     "start_time": "2020-11-30T01:32:31.297927Z"
    },
    "hidden": true
   },
   "outputs": [
    {
     "data": {
      "text/html": [
       "<div>\n",
       "<style scoped>\n",
       "    .dataframe tbody tr th:only-of-type {\n",
       "        vertical-align: middle;\n",
       "    }\n",
       "\n",
       "    .dataframe tbody tr th {\n",
       "        vertical-align: top;\n",
       "    }\n",
       "\n",
       "    .dataframe thead th {\n",
       "        text-align: right;\n",
       "    }\n",
       "</style>\n",
       "<table border=\"1\" class=\"dataframe\">\n",
       "  <thead>\n",
       "    <tr style=\"text-align: right;\">\n",
       "      <th></th>\n",
       "      <th>player_ID</th>\n",
       "      <th>Player</th>\n",
       "      <th>year_ID</th>\n",
       "      <th>Age</th>\n",
       "      <th>Tm</th>\n",
       "      <th>tm_gms</th>\n",
       "      <th>Tm_Net_Rtg</th>\n",
       "      <th>Pos</th>\n",
       "      <th>G</th>\n",
       "      <th>MP</th>\n",
       "      <th>MP_pct</th>\n",
       "      <th>PER</th>\n",
       "      <th>TS_pct</th>\n",
       "      <th>ThrPAr</th>\n",
       "      <th>FTr</th>\n",
       "      <th>ORB_pct</th>\n",
       "      <th>TRB_pct</th>\n",
       "      <th>AST_pct</th>\n",
       "      <th>STL_pct</th>\n",
       "      <th>BLK_pct</th>\n",
       "      <th>TOV_pct</th>\n",
       "      <th>USG_pct</th>\n",
       "      <th>OWS</th>\n",
       "      <th>DWS</th>\n",
       "      <th>WS</th>\n",
       "      <th>WS40</th>\n",
       "      <th>Composite_Rating</th>\n",
       "      <th>Wins_Generated</th>\n",
       "    </tr>\n",
       "  </thead>\n",
       "  <tbody>\n",
       "    <tr>\n",
       "      <th>0</th>\n",
       "      <td>montgre01w</td>\n",
       "      <td>Renee Montgomery</td>\n",
       "      <td>2019</td>\n",
       "      <td>32</td>\n",
       "      <td>ATL</td>\n",
       "      <td>34</td>\n",
       "      <td>-9.8</td>\n",
       "      <td>G</td>\n",
       "      <td>34</td>\n",
       "      <td>949</td>\n",
       "      <td>69.5%</td>\n",
       "      <td>11.1</td>\n",
       "      <td>0.520</td>\n",
       "      <td>0.727</td>\n",
       "      <td>0.176</td>\n",
       "      <td>1.0</td>\n",
       "      <td>4.1</td>\n",
       "      <td>18.0</td>\n",
       "      <td>1.7</td>\n",
       "      <td>0.5</td>\n",
       "      <td>16.8</td>\n",
       "      <td>17.5</td>\n",
       "      <td>0.4</td>\n",
       "      <td>0.5</td>\n",
       "      <td>0.9</td>\n",
       "      <td>0.039</td>\n",
       "      <td>-2.4</td>\n",
       "      <td>1.22</td>\n",
       "    </tr>\n",
       "    <tr>\n",
       "      <th>1</th>\n",
       "      <td>williel01w</td>\n",
       "      <td>Elizabeth Williams</td>\n",
       "      <td>2019</td>\n",
       "      <td>26</td>\n",
       "      <td>ATL</td>\n",
       "      <td>34</td>\n",
       "      <td>-9.8</td>\n",
       "      <td>C-F</td>\n",
       "      <td>32</td>\n",
       "      <td>909</td>\n",
       "      <td>66.6%</td>\n",
       "      <td>16.7</td>\n",
       "      <td>0.521</td>\n",
       "      <td>0.000</td>\n",
       "      <td>0.477</td>\n",
       "      <td>11.4</td>\n",
       "      <td>12.1</td>\n",
       "      <td>7.8</td>\n",
       "      <td>1.4</td>\n",
       "      <td>4.7</td>\n",
       "      <td>12.9</td>\n",
       "      <td>15.9</td>\n",
       "      <td>1.6</td>\n",
       "      <td>1.0</td>\n",
       "      <td>2.7</td>\n",
       "      <td>0.117</td>\n",
       "      <td>0.6</td>\n",
       "      <td>2.51</td>\n",
       "    </tr>\n",
       "    <tr>\n",
       "      <th>2</th>\n",
       "      <td>sykesbr01w</td>\n",
       "      <td>Brittney Sykes</td>\n",
       "      <td>2019</td>\n",
       "      <td>25</td>\n",
       "      <td>ATL</td>\n",
       "      <td>34</td>\n",
       "      <td>-9.8</td>\n",
       "      <td>G</td>\n",
       "      <td>34</td>\n",
       "      <td>880</td>\n",
       "      <td>64.5%</td>\n",
       "      <td>11.3</td>\n",
       "      <td>0.445</td>\n",
       "      <td>0.308</td>\n",
       "      <td>0.259</td>\n",
       "      <td>3.0</td>\n",
       "      <td>9.1</td>\n",
       "      <td>19.6</td>\n",
       "      <td>1.2</td>\n",
       "      <td>1.5</td>\n",
       "      <td>14.8</td>\n",
       "      <td>23.1</td>\n",
       "      <td>-0.8</td>\n",
       "      <td>0.8</td>\n",
       "      <td>0.0</td>\n",
       "      <td>-0.001</td>\n",
       "      <td>-3.4</td>\n",
       "      <td>0.70</td>\n",
       "    </tr>\n",
       "    <tr>\n",
       "      <th>3</th>\n",
       "      <td>hayesti01w</td>\n",
       "      <td>Tiffany Hayes</td>\n",
       "      <td>2019</td>\n",
       "      <td>29</td>\n",
       "      <td>ATL</td>\n",
       "      <td>34</td>\n",
       "      <td>-9.8</td>\n",
       "      <td>G</td>\n",
       "      <td>29</td>\n",
       "      <td>817</td>\n",
       "      <td>59.9%</td>\n",
       "      <td>15.1</td>\n",
       "      <td>0.497</td>\n",
       "      <td>0.313</td>\n",
       "      <td>0.340</td>\n",
       "      <td>2.7</td>\n",
       "      <td>5.7</td>\n",
       "      <td>21.9</td>\n",
       "      <td>1.8</td>\n",
       "      <td>0.8</td>\n",
       "      <td>14.0</td>\n",
       "      <td>27.1</td>\n",
       "      <td>0.5</td>\n",
       "      <td>0.6</td>\n",
       "      <td>1.0</td>\n",
       "      <td>0.050</td>\n",
       "      <td>-1.5</td>\n",
       "      <td>1.45</td>\n",
       "    </tr>\n",
       "    <tr>\n",
       "      <th>4</th>\n",
       "      <td>brelaje01w</td>\n",
       "      <td>Jessica Breland</td>\n",
       "      <td>2019</td>\n",
       "      <td>31</td>\n",
       "      <td>ATL</td>\n",
       "      <td>34</td>\n",
       "      <td>-9.8</td>\n",
       "      <td>F</td>\n",
       "      <td>33</td>\n",
       "      <td>767</td>\n",
       "      <td>56.2%</td>\n",
       "      <td>15.2</td>\n",
       "      <td>0.425</td>\n",
       "      <td>0.138</td>\n",
       "      <td>0.120</td>\n",
       "      <td>5.7</td>\n",
       "      <td>16.6</td>\n",
       "      <td>14.2</td>\n",
       "      <td>2.8</td>\n",
       "      <td>3.6</td>\n",
       "      <td>11.6</td>\n",
       "      <td>18.9</td>\n",
       "      <td>-0.4</td>\n",
       "      <td>1.9</td>\n",
       "      <td>1.5</td>\n",
       "      <td>0.076</td>\n",
       "      <td>-0.8</td>\n",
       "      <td>1.62</td>\n",
       "    </tr>\n",
       "  </tbody>\n",
       "</table>\n",
       "</div>"
      ],
      "text/plain": [
       "    player_ID              Player  year_ID  Age   Tm  tm_gms  Tm_Net_Rtg  Pos  \\\n",
       "0  montgre01w    Renee Montgomery     2019   32  ATL      34        -9.8    G   \n",
       "1  williel01w  Elizabeth Williams     2019   26  ATL      34        -9.8  C-F   \n",
       "2  sykesbr01w      Brittney Sykes     2019   25  ATL      34        -9.8    G   \n",
       "3  hayesti01w       Tiffany Hayes     2019   29  ATL      34        -9.8    G   \n",
       "4  brelaje01w     Jessica Breland     2019   31  ATL      34        -9.8    F   \n",
       "\n",
       "    G   MP MP_pct   PER  TS_pct  ThrPAr    FTr  ORB_pct  TRB_pct  AST_pct  \\\n",
       "0  34  949  69.5%  11.1   0.520   0.727  0.176      1.0      4.1     18.0   \n",
       "1  32  909  66.6%  16.7   0.521   0.000  0.477     11.4     12.1      7.8   \n",
       "2  34  880  64.5%  11.3   0.445   0.308  0.259      3.0      9.1     19.6   \n",
       "3  29  817  59.9%  15.1   0.497   0.313  0.340      2.7      5.7     21.9   \n",
       "4  33  767  56.2%  15.2   0.425   0.138  0.120      5.7     16.6     14.2   \n",
       "\n",
       "   STL_pct  BLK_pct  TOV_pct  USG_pct  OWS  DWS   WS   WS40  Composite_Rating  \\\n",
       "0      1.7      0.5     16.8     17.5  0.4  0.5  0.9  0.039              -2.4   \n",
       "1      1.4      4.7     12.9     15.9  1.6  1.0  2.7  0.117               0.6   \n",
       "2      1.2      1.5     14.8     23.1 -0.8  0.8  0.0 -0.001              -3.4   \n",
       "3      1.8      0.8     14.0     27.1  0.5  0.6  1.0  0.050              -1.5   \n",
       "4      2.8      3.6     11.6     18.9 -0.4  1.9  1.5  0.076              -0.8   \n",
       "\n",
       "   Wins_Generated  \n",
       "0            1.22  \n",
       "1            2.51  \n",
       "2            0.70  \n",
       "3            1.45  \n",
       "4            1.62  "
      ]
     },
     "execution_count": 6,
     "metadata": {},
     "output_type": "execute_result"
    }
   ],
   "source": [
    "historical.head()"
   ]
  },
  {
   "cell_type": "code",
   "execution_count": 8,
   "metadata": {
    "ExecuteTime": {
     "end_time": "2020-11-30T01:36:17.567809Z",
     "start_time": "2020-11-30T01:36:13.007250Z"
    },
    "hidden": true
   },
   "outputs": [
    {
     "ename": "IndexError",
     "evalue": "list index out of range",
     "output_type": "error",
     "traceback": [
      "\u001b[0;31m---------------------------------------------------------------------------\u001b[0m",
      "\u001b[0;31mIndexError\u001b[0m                                Traceback (most recent call last)",
      "\u001b[0;32m<ipython-input-8-6809f7c49cef>\u001b[0m in \u001b[0;36m<module>\u001b[0;34m\u001b[0m\n\u001b[1;32m      3\u001b[0m \u001b[0mpage\u001b[0m \u001b[0;34m=\u001b[0m \u001b[0mhtml\u001b[0m\u001b[0;34m.\u001b[0m\u001b[0mcontent\u001b[0m\u001b[0;34m\u001b[0m\u001b[0;34m\u001b[0m\u001b[0m\n\u001b[1;32m      4\u001b[0m \u001b[0msoup\u001b[0m \u001b[0;34m=\u001b[0m \u001b[0mBeautifulSoup\u001b[0m\u001b[0;34m(\u001b[0m\u001b[0mpage\u001b[0m\u001b[0;34m,\u001b[0m \u001b[0;34m\"lxml\"\u001b[0m\u001b[0;34m)\u001b[0m\u001b[0;34m\u001b[0m\u001b[0;34m\u001b[0m\u001b[0m\n\u001b[0;32m----> 5\u001b[0;31m \u001b[0mtable\u001b[0m \u001b[0;34m=\u001b[0m \u001b[0msoup\u001b[0m\u001b[0;34m.\u001b[0m\u001b[0mfind_all\u001b[0m\u001b[0;34m(\u001b[0m\u001b[0;34m'table'\u001b[0m\u001b[0;34m)\u001b[0m\u001b[0;34m[\u001b[0m\u001b[0;36m1\u001b[0m\u001b[0;34m]\u001b[0m\u001b[0;34m\u001b[0m\u001b[0;34m\u001b[0m\u001b[0m\n\u001b[0m",
      "\u001b[0;31mIndexError\u001b[0m: list index out of range"
     ]
    }
   ],
   "source": [
    "url = \"https://www.basketball-reference.com/wnba/years/2020_advanced.html\"\n",
    "html = requests.get(url)\n",
    "page = html.content\n",
    "soup = BeautifulSoup(page, \"lxml\")"
   ]
  },
  {
   "cell_type": "code",
   "execution_count": 9,
   "metadata": {
    "ExecuteTime": {
     "end_time": "2020-11-30T01:36:28.778547Z",
     "start_time": "2020-11-30T01:36:28.769471Z"
    },
    "hidden": true
   },
   "outputs": [],
   "source": [
    "tables = soup.find_all('table')"
   ]
  },
  {
   "cell_type": "code",
   "execution_count": 16,
   "metadata": {
    "ExecuteTime": {
     "end_time": "2020-11-30T01:37:31.152360Z",
     "start_time": "2020-11-30T01:37:30.940834Z"
    },
    "hidden": true
   },
   "outputs": [],
   "source": [
    "stats2020 = pd.read_html(str(tables[0]))[0]"
   ]
  },
  {
   "cell_type": "code",
   "execution_count": 19,
   "metadata": {
    "ExecuteTime": {
     "end_time": "2020-11-30T01:38:03.511390Z",
     "start_time": "2020-11-30T01:38:03.464641Z"
    },
    "hidden": true
   },
   "outputs": [
    {
     "data": {
      "text/html": [
       "<div>\n",
       "<style scoped>\n",
       "    .dataframe tbody tr th:only-of-type {\n",
       "        vertical-align: middle;\n",
       "    }\n",
       "\n",
       "    .dataframe tbody tr th {\n",
       "        vertical-align: top;\n",
       "    }\n",
       "\n",
       "    .dataframe thead th {\n",
       "        text-align: right;\n",
       "    }\n",
       "</style>\n",
       "<table border=\"1\" class=\"dataframe\">\n",
       "  <thead>\n",
       "    <tr style=\"text-align: right;\">\n",
       "      <th></th>\n",
       "      <th>Player</th>\n",
       "      <th>Tm</th>\n",
       "      <th>Pos</th>\n",
       "      <th>G</th>\n",
       "      <th>MP</th>\n",
       "      <th>PER</th>\n",
       "      <th>TS%</th>\n",
       "      <th>3PAr</th>\n",
       "      <th>FTr</th>\n",
       "      <th>ORB%</th>\n",
       "      <th>TRB%</th>\n",
       "      <th>AST%</th>\n",
       "      <th>STL%</th>\n",
       "      <th>BLK%</th>\n",
       "      <th>TOV%</th>\n",
       "      <th>USG%</th>\n",
       "      <th>Unnamed: 16</th>\n",
       "      <th>OWS</th>\n",
       "      <th>DWS</th>\n",
       "      <th>WS</th>\n",
       "      <th>WS/40</th>\n",
       "    </tr>\n",
       "  </thead>\n",
       "  <tbody>\n",
       "    <tr>\n",
       "      <th>146</th>\n",
       "      <td>Alisia Jenkins</td>\n",
       "      <td>TOT</td>\n",
       "      <td>NaN</td>\n",
       "      <td>5</td>\n",
       "      <td>28</td>\n",
       "      <td>-3.5</td>\n",
       "      <td>.376</td>\n",
       "      <td>.375</td>\n",
       "      <td>.750</td>\n",
       "      <td>0.0</td>\n",
       "      <td>8.3</td>\n",
       "      <td>0.0</td>\n",
       "      <td>0.0</td>\n",
       "      <td>0.0</td>\n",
       "      <td>22.0</td>\n",
       "      <td>21.7</td>\n",
       "      <td>NaN</td>\n",
       "      <td>-0.1</td>\n",
       "      <td>0.0</td>\n",
       "      <td>-0.1</td>\n",
       "      <td>-0.193</td>\n",
       "    </tr>\n",
       "    <tr>\n",
       "      <th>155</th>\n",
       "      <td>Alisia Jenkins</td>\n",
       "      <td>IND</td>\n",
       "      <td>NaN</td>\n",
       "      <td>1</td>\n",
       "      <td>2</td>\n",
       "      <td>6.7</td>\n",
       "      <td>NaN</td>\n",
       "      <td>NaN</td>\n",
       "      <td>NaN</td>\n",
       "      <td>0.0</td>\n",
       "      <td>30.1</td>\n",
       "      <td>0.0</td>\n",
       "      <td>0.0</td>\n",
       "      <td>0.0</td>\n",
       "      <td>NaN</td>\n",
       "      <td>0.0</td>\n",
       "      <td>NaN</td>\n",
       "      <td>0.0</td>\n",
       "      <td>0.0</td>\n",
       "      <td>0.0</td>\n",
       "      <td>.036</td>\n",
       "    </tr>\n",
       "    <tr>\n",
       "      <th>163</th>\n",
       "      <td>Alisia Jenkins</td>\n",
       "      <td>CHI</td>\n",
       "      <td>NaN</td>\n",
       "      <td>2</td>\n",
       "      <td>3</td>\n",
       "      <td>0.0</td>\n",
       "      <td>NaN</td>\n",
       "      <td>NaN</td>\n",
       "      <td>NaN</td>\n",
       "      <td>0.0</td>\n",
       "      <td>0.0</td>\n",
       "      <td>0.0</td>\n",
       "      <td>0.0</td>\n",
       "      <td>0.0</td>\n",
       "      <td>NaN</td>\n",
       "      <td>0.0</td>\n",
       "      <td>NaN</td>\n",
       "      <td>0.0</td>\n",
       "      <td>0.0</td>\n",
       "      <td>0.0</td>\n",
       "      <td>-0.006</td>\n",
       "    </tr>\n",
       "    <tr>\n",
       "      <th>169</th>\n",
       "      <td>Alisia Jenkins</td>\n",
       "      <td>PHO</td>\n",
       "      <td>NaN</td>\n",
       "      <td>2</td>\n",
       "      <td>23</td>\n",
       "      <td>-4.8</td>\n",
       "      <td>.376</td>\n",
       "      <td>.375</td>\n",
       "      <td>.750</td>\n",
       "      <td>0.0</td>\n",
       "      <td>7.5</td>\n",
       "      <td>0.0</td>\n",
       "      <td>0.0</td>\n",
       "      <td>0.0</td>\n",
       "      <td>22.0</td>\n",
       "      <td>26.4</td>\n",
       "      <td>NaN</td>\n",
       "      <td>-0.1</td>\n",
       "      <td>0.0</td>\n",
       "      <td>-0.1</td>\n",
       "      <td>-0.237</td>\n",
       "    </tr>\n",
       "  </tbody>\n",
       "</table>\n",
       "</div>"
      ],
      "text/plain": [
       "             Player   Tm  Pos  G  MP   PER   TS%  3PAr   FTr ORB%  TRB% AST%  \\\n",
       "146  Alisia Jenkins  TOT  NaN  5  28  -3.5  .376  .375  .750  0.0   8.3  0.0   \n",
       "155  Alisia Jenkins  IND  NaN  1   2   6.7   NaN   NaN   NaN  0.0  30.1  0.0   \n",
       "163  Alisia Jenkins  CHI  NaN  2   3   0.0   NaN   NaN   NaN  0.0   0.0  0.0   \n",
       "169  Alisia Jenkins  PHO  NaN  2  23  -4.8  .376  .375  .750  0.0   7.5  0.0   \n",
       "\n",
       "    STL% BLK%  TOV%  USG%  Unnamed: 16   OWS  DWS    WS   WS/40  \n",
       "146  0.0  0.0  22.0  21.7          NaN  -0.1  0.0  -0.1  -0.193  \n",
       "155  0.0  0.0   NaN   0.0          NaN   0.0  0.0   0.0    .036  \n",
       "163  0.0  0.0   NaN   0.0          NaN   0.0  0.0   0.0  -0.006  \n",
       "169  0.0  0.0  22.0  26.4          NaN  -0.1  0.0  -0.1  -0.237  "
      ]
     },
     "execution_count": 19,
     "metadata": {},
     "output_type": "execute_result"
    }
   ],
   "source": [
    "stats2020[stats2020.Player == 'Alisia Jenkins']"
   ]
  },
  {
   "cell_type": "code",
   "execution_count": 22,
   "metadata": {
    "ExecuteTime": {
     "end_time": "2020-11-30T01:40:19.188921Z",
     "start_time": "2020-11-30T01:40:18.988577Z"
    },
    "hidden": true
   },
   "outputs": [],
   "source": [
    "table = BeautifulSoup(str(tables[0]))"
   ]
  },
  {
   "cell_type": "code",
   "execution_count": 48,
   "metadata": {
    "ExecuteTime": {
     "end_time": "2020-11-30T01:48:25.791613Z",
     "start_time": "2020-11-30T01:48:25.784069Z"
    },
    "hidden": true
   },
   "outputs": [],
   "source": [
    "url_object = table.findAll('a')[0]"
   ]
  },
  {
   "cell_type": "code",
   "execution_count": 50,
   "metadata": {
    "ExecuteTime": {
     "end_time": "2020-11-30T01:48:43.701485Z",
     "start_time": "2020-11-30T01:48:43.696190Z"
    },
    "hidden": true
   },
   "outputs": [
    {
     "data": {
      "text/plain": [
       "'Natalie Achonwa'"
      ]
     },
     "execution_count": 50,
     "metadata": {},
     "output_type": "execute_result"
    }
   ],
   "source": [
    "url_object.getText()"
   ]
  },
  {
   "cell_type": "code",
   "execution_count": 25,
   "metadata": {
    "ExecuteTime": {
     "end_time": "2020-11-30T01:40:40.442563Z",
     "start_time": "2020-11-30T01:40:40.436877Z"
    },
    "hidden": true
   },
   "outputs": [
    {
     "data": {
      "text/plain": [
       "(170, 21)"
      ]
     },
     "execution_count": 25,
     "metadata": {},
     "output_type": "execute_result"
    }
   ],
   "source": [
    "stats2020.shape"
   ]
  },
  {
   "cell_type": "markdown",
   "metadata": {
    "heading_collapsed": true
   },
   "source": [
    "# Scraping box scores"
   ]
  },
  {
   "cell_type": "code",
   "execution_count": 158,
   "metadata": {
    "ExecuteTime": {
     "end_time": "2020-12-04T07:25:34.087936Z",
     "start_time": "2020-12-04T07:25:34.079846Z"
    },
    "hidden": true
   },
   "outputs": [],
   "source": [
    "def get_team_stats(game_page, team_tables, team, opponent, home, playoffs, link, date):\n",
    "    team_stats = pd.read_html(str(team_tables[1-home]))[0]\n",
    "    team_stats.dropna(inplace=True)\n",
    "    team_stats = team_stats.iloc[:-1].copy()\n",
    "    team_stats['team'] = team\n",
    "    team_stats['opp'] = opponent\n",
    "    team_stats['home_away'] = home\n",
    "    team_stats['starter'] = [1]*5 + [0]*(team_stats.shape[0]-5)\n",
    "    team_stats['playoffs'] = playoffs\n",
    "    team_stats['game_id'] = link.split('.')[0].split('/')[-1]\n",
    "    team_stats['date'] = datetime.strptime(date, '%a, %b %d, %Y')\n",
    "    \n",
    "    team_soup = BeautifulSoup(str(game_page.findAll('table')[1-home]))\n",
    "    team_stats['player_link'] = [link['href'] for link in team_soup.findAll('a')]\n",
    "    \n",
    "    return team_stats"
   ]
  },
  {
   "cell_type": "code",
   "execution_count": 159,
   "metadata": {
    "ExecuteTime": {
     "end_time": "2020-12-04T07:25:35.532924Z",
     "start_time": "2020-12-04T07:25:35.524868Z"
    },
    "hidden": true
   },
   "outputs": [],
   "source": [
    "def get_box_scores_year(schedule, playoff_start):\n",
    "    box_scores = []\n",
    "    for i, row in schedule.iterrows():\n",
    "        html = requests.get(f\"https://www.basketball-reference.com{row['link']}\")\n",
    "        page = html.content\n",
    "        game_page = BeautifulSoup(page, \"lxml\")              \n",
    "        all_tables = game_page.findAll('table')\n",
    "        if len(all_tables) == 0:\n",
    "            schedule.loc[i, 'no_box'] = 1\n",
    "            continue\n",
    "\n",
    "        try:\n",
    "            home_stats = get_team_stats(game_page, all_tables, row['Home/Neutral'], row['Visitor/Neutral'], \n",
    "                                        1, i < playoff_start, row['link'], row['Date'])\n",
    "            away_stats = get_team_stats(game_page, all_tables, row['Visitor/Neutral'], row['Home/Neutral'], \n",
    "                                        0, i < playoff_start, row['link'], row['Date'])\n",
    "        except:\n",
    "            print(i)\n",
    "            raise Error          \n",
    "\n",
    "        box_scores.extend([home_stats, away_stats])\n",
    "    \n",
    "    return box_scores"
   ]
  },
  {
   "cell_type": "code",
   "execution_count": 176,
   "metadata": {
    "ExecuteTime": {
     "end_time": "2020-12-04T21:24:43.385150Z",
     "start_time": "2020-12-04T21:20:02.510175Z"
    },
    "hidden": true
   },
   "outputs": [
    {
     "name": "stdout",
     "output_type": "stream",
     "text": [
      "2020-12-04 13:20:02.515816\n",
      "2018\n",
      "2020-12-04 13:21:48.018907\n",
      "2019\n",
      "2020-12-04 13:23:31.970676\n",
      "2020\n",
      "2020-12-04 13:24:43.383519\n"
     ]
    }
   ],
   "source": [
    "# all_box_scores = []\n",
    "# all_schedules = []\n",
    "print(datetime.now())\n",
    "for year in range(2018, 2021):\n",
    "    season_schedule_url = f'https://www.basketball-reference.com/wnba/years/{year}-schedule.html'\n",
    "    html = requests.get(season_schedule_url)\n",
    "    page = html.content\n",
    "    schedule_page = BeautifulSoup(page, \"lxml\")\n",
    "    schedule = pd.read_html(str(schedule_page.findAll('table')[0]))[0]\n",
    "    schedule_links = BeautifulSoup(str(schedule_page.findAll('table')[0]))\n",
    "    \n",
    "    playoff_start = (schedule.iloc[:,-1] == 'Playoffs').idxmax()\n",
    "    schedule = schedule[schedule.iloc[:, -1] == 'Box Score'].copy()\n",
    "    schedule['link'] = [link['href'] for link in schedule_links.findAll('a') if link.text == 'Box Score']\n",
    "    \n",
    "    year_box_scores = get_box_scores_year(schedule, playoff_start)\n",
    "    all_schedules.append(schedule)\n",
    "    all_box_scores.extend(year_box_scores)\n",
    "    \n",
    "    print(year)\n",
    "    print(datetime.now())"
   ]
  },
  {
   "cell_type": "code",
   "execution_count": 182,
   "metadata": {
    "ExecuteTime": {
     "end_time": "2020-12-05T06:28:42.410334Z",
     "start_time": "2020-12-05T06:28:31.047154Z"
    },
    "hidden": true
   },
   "outputs": [],
   "source": [
    "box_scores_df = pd.concat(all_box_scores, ignore_index=True)"
   ]
  },
  {
   "cell_type": "code",
   "execution_count": 184,
   "metadata": {
    "ExecuteTime": {
     "end_time": "2020-12-05T06:29:04.995130Z",
     "start_time": "2020-12-05T06:29:04.973420Z"
    },
    "hidden": true
   },
   "outputs": [
    {
     "name": "stderr",
     "output_type": "stream",
     "text": [
      "/Users/eddieowens/miniconda3/lib/python3.7/site-packages/ipykernel_launcher.py:1: FutureWarning: Sorting because non-concatenation axis is not aligned. A future version\n",
      "of pandas will change to not sort by default.\n",
      "\n",
      "To accept the future behavior, pass 'sort=False'.\n",
      "\n",
      "To retain the current behavior and silence the warning, pass 'sort=True'.\n",
      "\n",
      "  \"\"\"Entry point for launching an IPython kernel.\n"
     ]
    }
   ],
   "source": [
    "all_schedules_df = pd.concat(all_schedules, ignore_index=True)"
   ]
  },
  {
   "cell_type": "code",
   "execution_count": 191,
   "metadata": {
    "ExecuteTime": {
     "end_time": "2020-12-05T06:31:08.045412Z",
     "start_time": "2020-12-05T06:31:05.190191Z"
    },
    "hidden": true
   },
   "outputs": [],
   "source": [
    "box_scores_df.to_csv('wnba_box_scores.csv', index=False)"
   ]
  },
  {
   "cell_type": "code",
   "execution_count": 192,
   "metadata": {
    "ExecuteTime": {
     "end_time": "2020-12-05T06:31:23.345242Z",
     "start_time": "2020-12-05T06:31:23.309519Z"
    },
    "hidden": true
   },
   "outputs": [],
   "source": [
    "all_schedules_df.to_csv('wnba_schedule.csv', index=False)"
   ]
  },
  {
   "cell_type": "code",
   "execution_count": null,
   "metadata": {
    "hidden": true
   },
   "outputs": [],
   "source": [
    "# to do\n",
    "# scrape player info - position, birthday, height, weight, college, draft position, draft year\n",
    "# scrape odds history"
   ]
  },
  {
   "cell_type": "markdown",
   "metadata": {
    "heading_collapsed": true
   },
   "source": [
    "# Scraping odds"
   ]
  },
  {
   "cell_type": "code",
   "execution_count": 200,
   "metadata": {
    "ExecuteTime": {
     "end_time": "2020-12-06T22:13:05.897864Z",
     "start_time": "2020-12-06T22:13:05.766343Z"
    },
    "hidden": true
   },
   "outputs": [],
   "source": [
    "from selenium import webdriver\n",
    "from selenium.webdriver.common.by import By"
   ]
  },
  {
   "cell_type": "code",
   "execution_count": 489,
   "metadata": {
    "ExecuteTime": {
     "end_time": "2020-12-07T08:10:05.369204Z",
     "start_time": "2020-12-07T08:10:05.363443Z"
    },
    "hidden": true
   },
   "outputs": [],
   "source": [
    "def scrape_year(year):\n",
    "    if year == 2020:\n",
    "        odds_url = \"https://www.oddsportal.com/basketball/usa/wnba/results/\"\n",
    "    else:\n",
    "        odds_url = f\"https://www.oddsportal.com/basketball/usa/wnba-{year}/results/\"\n",
    "    \n",
    "    odds_text = []\n",
    "    pg_odds_text = get_odds_text(odds_url)\n",
    "    page_num = 1\n",
    "    while 'No data available' not in pg_odds_text:\n",
    "        odds_text.append(pg_odds_text)\n",
    "        page_num += 1\n",
    "        pg_url = odds_url + f'#/page/{page_num}/'\n",
    "        pg_odds_text = get_odds_text(pg_url)\n",
    "    \n",
    "    return odds_text"
   ]
  },
  {
   "cell_type": "code",
   "execution_count": 478,
   "metadata": {
    "ExecuteTime": {
     "end_time": "2020-12-07T08:03:36.293690Z",
     "start_time": "2020-12-07T08:03:36.289535Z"
    },
    "hidden": true
   },
   "outputs": [],
   "source": [
    "def get_odds_text(odds_url):\n",
    "    driver = webdriver.Chrome('/usr/local/bin/chromedriver')\n",
    "    driver.get(odds_url)\n",
    "    table = driver.find_element_by_id('tournamentTable')\n",
    "    table_text = table.text\n",
    "    driver.quit()\n",
    "    \n",
    "    return table_text"
   ]
  },
  {
   "cell_type": "code",
   "execution_count": 514,
   "metadata": {
    "ExecuteTime": {
     "end_time": "2020-12-13T05:02:58.993351Z",
     "start_time": "2020-12-13T05:02:58.978755Z"
    },
    "hidden": true
   },
   "outputs": [],
   "source": [
    "def get_info_one_game(chunks):\n",
    "    two_teams = chunks[0][6:]\n",
    "    first_w = re.search('\\\\bW\\\\b', two_teams).span()[0]\n",
    "    second_w = first_w + re.search('\\\\bW\\\\b', two_teams[(first_w+1):]).span()[1]\n",
    "    \n",
    "    game_dict = {'team1': two_teams[:first_w-1],\n",
    "                 'team2': two_teams[first_w+4:second_w-1]}\n",
    "    if second_w < len(two_teams) - 2:\n",
    "        score = two_teams[second_w+2:]\n",
    "        score_chunk = 0\n",
    "    else:\n",
    "        score = chunks[1].strip()\n",
    "        score_chunk = 1\n",
    "    score = re.sub('OT', '', score)\n",
    "    try:\n",
    "        team1_score, team2_score = score.split(':')\n",
    "        team1_odds = chunks[score_chunk+1]\n",
    "        team2_odds = chunks[score_chunk+2]\n",
    "    except ValueError:\n",
    "        team1_score = 0\n",
    "        team2_score = 0\n",
    "        team1_odds = 0\n",
    "        team2_odds = 0\n",
    "    game_dict['team1_score'] = int(team1_score)\n",
    "    game_dict['team2_score'] = int(team2_score)\n",
    "    try:\n",
    "        game_dict['team1_odds'] = int(team1_odds)\n",
    "        game_dict['team2_odds'] = int(team2_odds)\n",
    "    except ValueError:\n",
    "        game_dict['team1_odds'] = 0\n",
    "        game_dict['team2_odds'] = 0\n",
    "    \n",
    "    return game_dict, score_chunk+4"
   ]
  },
  {
   "cell_type": "code",
   "execution_count": 506,
   "metadata": {
    "ExecuteTime": {
     "end_time": "2020-12-13T04:50:25.469662Z",
     "start_time": "2020-12-13T04:50:25.463757Z"
    },
    "hidden": true
   },
   "outputs": [],
   "source": [
    "def parse_chunks(odds_chunks):\n",
    "    i = 0\n",
    "    game_dicts = []\n",
    "    while i < len(odds_chunks)-1:\n",
    "        possible_date = odds_chunks[i][:11]\n",
    "        try:\n",
    "            game_date = datetime.strptime(possible_date, '%d %b %Y')\n",
    "            i += 1\n",
    "        except ValueError:\n",
    "            game_dict, chunks_read = get_info_one_game(odds_chunks[i:(i+5)])\n",
    "            game_dict['date'] = game_date\n",
    "            game_dicts.append(game_dict)\n",
    "            i += chunks_read\n",
    "    \n",
    "    return pd.DataFrame(game_dicts)"
   ]
  },
  {
   "cell_type": "code",
   "execution_count": 519,
   "metadata": {
    "ExecuteTime": {
     "end_time": "2020-12-13T05:29:37.801709Z",
     "start_time": "2020-12-13T05:29:03.887563Z"
    },
    "hidden": true
   },
   "outputs": [
    {
     "name": "stdout",
     "output_type": "stream",
     "text": [
      "2020\n"
     ]
    }
   ],
   "source": [
    "# odds_info = []\n",
    "# for year in range(2009, 2021):\n",
    "year = 2020\n",
    "odds_texts = scrape_year(year)\n",
    "odds_info.extend([parse_chunks(odds_text.split('\\n')[5:]) for odds_text in odds_texts])\n",
    "print(year)"
   ]
  },
  {
   "cell_type": "code",
   "execution_count": 520,
   "metadata": {
    "ExecuteTime": {
     "end_time": "2020-12-13T05:31:04.818646Z",
     "start_time": "2020-12-13T05:31:04.756695Z"
    },
    "hidden": true
   },
   "outputs": [],
   "source": [
    "odds_df = pd.concat(odds_info, ignore_index=True)"
   ]
  },
  {
   "cell_type": "code",
   "execution_count": 523,
   "metadata": {
    "ExecuteTime": {
     "end_time": "2020-12-13T05:36:05.646720Z",
     "start_time": "2020-12-13T05:36:05.547800Z"
    },
    "hidden": true
   },
   "outputs": [],
   "source": [
    "odds_df.to_csv('odds_data.csv')"
   ]
  },
  {
   "cell_type": "markdown",
   "metadata": {},
   "source": [
    "# Scraping player info"
   ]
  },
  {
   "cell_type": "code",
   "execution_count": 46,
   "metadata": {
    "ExecuteTime": {
     "end_time": "2020-12-24T20:46:21.007100Z",
     "start_time": "2020-12-24T20:46:20.989120Z"
    }
   },
   "outputs": [],
   "source": [
    "# scrape player info - position, birthday, height, weight, college, draft position, draft year\n",
    "itemprops = ['birthDate', 'birthPlace', 'height', 'weight']"
   ]
  },
  {
   "cell_type": "code",
   "execution_count": 49,
   "metadata": {
    "ExecuteTime": {
     "end_time": "2020-12-24T20:47:03.362424Z",
     "start_time": "2020-12-24T20:47:03.360146Z"
    }
   },
   "outputs": [],
   "source": [
    "# position, college, draft position and year"
   ]
  },
  {
   "cell_type": "code",
   "execution_count": 237,
   "metadata": {
    "ExecuteTime": {
     "end_time": "2020-12-27T16:58:50.752956Z",
     "start_time": "2020-12-27T16:58:50.739647Z"
    }
   },
   "outputs": [],
   "source": [
    "def get_player_info(player_id):\n",
    "    player_url = f'https://www.basketball-reference.com/wnba/players/{player_id[0]}/{player_id}.html'\n",
    "    html = requests.get(player_url)\n",
    "    page = html.content\n",
    "    player_page = BeautifulSoup(page, \"lxml\")\n",
    "    \n",
    "    player_info = {'player_id': player_id}\n",
    "    span = player_page.find('div', {'itemtype': 'https://schema.org/Person'})\n",
    "    parts = re.split('\\\\s+', span.getText())\n",
    "    sections = [i+1 for i, part in enumerate(parts[1:-1]) if part[-1] == ':']\n",
    "    sections.append(parts.index('More'))\n",
    "    \n",
    "    if len(sections) == 1:\n",
    "        return player_info\n",
    "    \n",
    "    if 'Position:' in parts:\n",
    "        player_info['position'] = parts[parts.index('Position:')+1]\n",
    "    \n",
    "    if 'College:' in parts:\n",
    "        next_section = sections[np.argmax(np.array(sections) > parts.index('College:'))]\n",
    "        player_info['college'] = ' '.join(parts[parts.index('College:')+1:next_section])\n",
    "        next_section = sections[np.argmax(np.array(sections) > parts.index('Born:'))]\n",
    "        player_info['country'] = parts[next_section-1]\n",
    "    else:\n",
    "        next_section = sections[np.argmax(np.array(sections) > parts.index('Born:'))]\n",
    "        player_info['country'] = parts[next_section-1]\n",
    "\n",
    "    if 'pick,' in parts:\n",
    "        player_info['draft_pos'] = int(parts[parts.index('pick,')+1][:-2])\n",
    "        player_info['draft_year'] = int(parts[parts.index('overall),')+1])\n",
    "    \n",
    "    if 'Born:' in parts:\n",
    "        birthdate = ' '.join(parts[parts.index('Born:')+1:parts.index('Born:')+4])\n",
    "        player_info['birthdate'] = datetime.strptime(birthdate, '%B %d, %Y')\n",
    "    \n",
    "    for item in ['height', 'weight']:\n",
    "        item_info = player_page.find('span', {'itemprop': item})\n",
    "        if item_info is not None:\n",
    "            if item == 'height':\n",
    "                feet, inches = item_info.getText().split('-')\n",
    "                player_info[item] = int(feet) + int(inches)/12\n",
    "            else:\n",
    "                player_info[item] = int(item_info.getText()[:-2])\n",
    "    \n",
    "    return player_info"
   ]
  },
  {
   "cell_type": "code",
   "execution_count": 155,
   "metadata": {
    "ExecuteTime": {
     "end_time": "2020-12-24T22:43:35.827520Z",
     "start_time": "2020-12-24T22:43:35.449345Z"
    }
   },
   "outputs": [],
   "source": [
    "boxscores = pd.read_csv('wnba_box_scores.csv')"
   ]
  },
  {
   "cell_type": "code",
   "execution_count": 161,
   "metadata": {
    "ExecuteTime": {
     "end_time": "2020-12-24T22:46:05.008476Z",
     "start_time": "2020-12-24T22:46:04.920426Z"
    }
   },
   "outputs": [],
   "source": [
    "boxscores['player_id'] = boxscores.player_link.apply(lambda x: x.split('/')[-1].split('.')[0])"
   ]
  },
  {
   "cell_type": "code",
   "execution_count": 283,
   "metadata": {
    "ExecuteTime": {
     "end_time": "2020-12-28T03:13:38.155001Z",
     "start_time": "2020-12-28T03:13:36.714439Z"
    }
   },
   "outputs": [],
   "source": [
    "boxscores.to_csv('wnba_box_scores.csv')"
   ]
  },
  {
   "cell_type": "code",
   "execution_count": 238,
   "metadata": {
    "ExecuteTime": {
     "end_time": "2020-12-27T17:01:18.536771Z",
     "start_time": "2020-12-27T16:59:12.997640Z"
    }
   },
   "outputs": [
    {
     "name": "stdout",
     "output_type": "stream",
     "text": [
      "0\n",
      "100\n",
      "200\n",
      "300\n",
      "400\n",
      "500\n",
      "600\n",
      "700\n",
      "800\n",
      "900\n"
     ]
    }
   ],
   "source": [
    "player_infos = []\n",
    "for i, player_id in enumerate(boxscores.player_id.unique()):\n",
    "    player_infos.append(get_player_info(player_id))\n",
    "    if i % 100 == 0:\n",
    "        print(i)"
   ]
  },
  {
   "cell_type": "code",
   "execution_count": 239,
   "metadata": {
    "ExecuteTime": {
     "end_time": "2020-12-27T17:01:18.545238Z",
     "start_time": "2020-12-27T17:01:18.538599Z"
    }
   },
   "outputs": [],
   "source": [
    "player_info_df = pd.DataFrame(player_infos)"
   ]
  },
  {
   "cell_type": "code",
   "execution_count": 268,
   "metadata": {
    "ExecuteTime": {
     "end_time": "2020-12-28T00:17:00.168369Z",
     "start_time": "2020-12-28T00:17:00.161655Z"
    }
   },
   "outputs": [
    {
     "data": {
      "text/plain": [
       "birthdate        0.002039\n",
       "college          0.177370\n",
       "country          0.002039\n",
       "draft_pos        0.316004\n",
       "draft_year       0.316004\n",
       "height           0.106014\n",
       "player_id        0.000000\n",
       "position         0.021407\n",
       "weight           0.141692\n",
       "country_fixed    0.408767\n",
       "dtype: float64"
      ]
     },
     "execution_count": 268,
     "metadata": {},
     "output_type": "execute_result"
    }
   ],
   "source": [
    "player_info_df.isna().mean()"
   ]
  },
  {
   "cell_type": "code",
   "execution_count": 274,
   "metadata": {
    "ExecuteTime": {
     "end_time": "2020-12-28T00:18:23.959650Z",
     "start_time": "2020-12-28T00:18:23.953152Z"
    }
   },
   "outputs": [
    {
     "data": {
      "text/plain": [
       "359"
      ]
     },
     "execution_count": 274,
     "metadata": {},
     "output_type": "execute_result"
    }
   ],
   "source": [
    "(player_info_df.isna().sum(axis=1) == 0).sum()"
   ]
  },
  {
   "cell_type": "code",
   "execution_count": 276,
   "metadata": {
    "ExecuteTime": {
     "end_time": "2020-12-28T00:25:07.466663Z",
     "start_time": "2020-12-28T00:25:07.382859Z"
    }
   },
   "outputs": [],
   "source": [
    "player_info_df['name'] = player_info_df.player_id.map(boxscores.set_index('player_id').Player.to_dict())"
   ]
  },
  {
   "cell_type": "code",
   "execution_count": 248,
   "metadata": {
    "ExecuteTime": {
     "end_time": "2020-12-28T00:05:45.438620Z",
     "start_time": "2020-12-28T00:05:45.435634Z"
    }
   },
   "outputs": [],
   "source": [
    "def delete_non_countries(country):\n",
    "    try:\n",
    "        year = int(country)\n",
    "        return None\n",
    "    except:\n",
    "        return country"
   ]
  },
  {
   "cell_type": "code",
   "execution_count": 249,
   "metadata": {
    "ExecuteTime": {
     "end_time": "2020-12-28T00:06:00.895256Z",
     "start_time": "2020-12-28T00:06:00.890664Z"
    }
   },
   "outputs": [],
   "source": [
    "player_info_df['country_fixed'] = player_info_df.country.apply(delete_non_countries)"
   ]
  },
  {
   "cell_type": "code",
   "execution_count": 282,
   "metadata": {
    "ExecuteTime": {
     "end_time": "2020-12-28T00:27:17.555634Z",
     "start_time": "2020-12-28T00:27:17.535092Z"
    }
   },
   "outputs": [],
   "source": [
    "player_info_df.drop(columns='country').to_csv('wnba_player_metadata.csv')"
   ]
  },
  {
   "cell_type": "code",
   "execution_count": null,
   "metadata": {},
   "outputs": [],
   "source": []
  }
 ],
 "metadata": {
  "kernelspec": {
   "display_name": "Python 3",
   "language": "python",
   "name": "python3"
  },
  "language_info": {
   "codemirror_mode": {
    "name": "ipython",
    "version": 3
   },
   "file_extension": ".py",
   "mimetype": "text/x-python",
   "name": "python",
   "nbconvert_exporter": "python",
   "pygments_lexer": "ipython3",
   "version": "3.6.2"
  },
  "toc": {
   "base_numbering": 1,
   "nav_menu": {},
   "number_sections": true,
   "sideBar": true,
   "skip_h1_title": false,
   "title_cell": "Table of Contents",
   "title_sidebar": "Contents",
   "toc_cell": false,
   "toc_position": {},
   "toc_section_display": true,
   "toc_window_display": false
  }
 },
 "nbformat": 4,
 "nbformat_minor": 2
}
